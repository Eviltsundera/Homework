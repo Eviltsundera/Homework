{
 "cells": [
  {
   "cell_type": "markdown",
   "metadata": {},
   "source": [
    "**Общая информация**\n",
    "\n",
    "**Срок сдачи:** 20 марта 2019, 06:00 <br\\>\n",
    "**Штраф за опоздание:** -1 балл после 06:00 20 марта, -2 балла после 06:00 27 марта, -3 балла после 06:00 3 апреля\n",
    "\n",
    "При отправлении ДЗ указывайте фамилию в названии файла\n",
    "Присылать ДЗ необходимо в виде ссылки на свой github репозиторий в slack @alkhamush\n",
    "\n",
    "Необходимо в slack скинуть ссылку в личный чат @alkhamush\n",
    "Пример ссылки:\n",
    "https://github.com/stroykova/spheremailru/stroykova_hw1.ipynb \n",
    "\n",
    "\n",
    "Используйте данный Ipython Notebook при оформлении домашнего задания."
   ]
  },
  {
   "cell_type": "markdown",
   "metadata": {},
   "source": [
    "###### Задание 1 (2 баллов)\n",
    "Реализовать KNN в классе MyKNeighborsClassifier (обязательное условие: точность не ниже sklearn реализации)\n",
    "Разберитесь самостоятельно, какая мера расстояния используется в KNeighborsClassifier дефолтно и реализуйте свой алгоритм именно с этой мерой. Самостоятельно разберитесь, как считается score из KNeighborsClassifier и реализуйте аналог в своём классе. Score не должен уступать значению KNN из sklearn\n",
    "\n",
    "###### Задание 2 (2 балла)\n",
    "Добиться скорости работы на fit,  predict и predict_proba сравнимой со sklearn для iris и mnist\n",
    "Для этого используем numpy\n",
    "\n",
    "###### Задание 3 (2 балла)\n",
    "Для iris найдите такой параметр n_neighbors, при котором выдаётся наилучший score. Нарисуйте график зависимости score от n_neighbors\n",
    "\n",
    "###### Задание 4 (3 балла)\n",
    "Добавить algorithm='kd_tree' в реализацию KNN (использовать KDTree из sklearn.neighbors). Значение n_neighbors нужно взять из задания 3. Добиться скорости работы на fit,  predict и predict_proba сравнимой со sklearn для iris и mnist\n",
    "Для этого используем numpy. Score не должен уступать значению KNN из sklearn\n",
    "\n",
    "###### Задание 5 (1 балла)\n",
    "Описать для чего нужны следующие библиотеки/классы/функции (список будет ниже)\n",
    "\n",
    "**Штрафные баллы:**\n",
    "\n",
    "1. Невыполнение PEP8 -1 балл\n",
    "2. Отсутствие фамилии в имени скрипта (скрипт должен называться по аналогии со stroykova_hw1.ipynb) -1 балл\n",
    "3. Все строчки должны быть выполнены. Нужно, чтобы output команды можно было увидеть уже в git'е. В противном случае -1 балл\n",
    "4. При оформлении ДЗ нужно пользоваться данным файлом в качестве шаблона. Не нужно удалять и видоизменять структуру кода и текст. В противном случае -1 балл\n"
   ]
  },
  {
   "cell_type": "code",
   "execution_count": 43,
   "metadata": {
    "scrolled": false
   },
   "outputs": [],
   "source": [
    "import numpy as np\n",
    "import matplotlib.pyplot as plt\n",
    "from scipy.spatial.distance import cdist\n",
    "\n",
    "import pylab\n",
    "import seaborn as sns\n",
    "from sklearn import datasets\n",
    "from sklearn.base import ClassifierMixin\n",
    "from sklearn.datasets import fetch_mldata\n",
    "from sklearn.neighbors.base import NeighborsBase, KNeighborsMixin, SupervisedIntegerMixin \n",
    "from sklearn.model_selection import train_test_split\n",
    "from sklearn.neighbors import KNeighborsClassifier\n",
    "from sklearn.neighbors import KDTree\n",
    "\n",
    "%load_ext pycodestyle_magic"
   ]
  },
  {
   "cell_type": "code",
   "execution_count": 78,
   "metadata": {},
   "outputs": [],
   "source": [
    "%%pycodestyle\n",
    "\n",
    "\n",
    "class MyKNeighborsClassifier(NeighborsBase, KNeighborsMixin,\n",
    "                             SupervisedIntegerMixin, ClassifierMixin):\n",
    "    def __init__(self, n_neighbors=5, weights='uniform', algorithm='brute',\n",
    "                 metric='minkowski', p=2):\n",
    "        self.n_neighbors = n_neighbors\n",
    "        self.weights = weights\n",
    "        self.algorithm = algorithm\n",
    "        self.metric = metric\n",
    "        self.m_p = p\n",
    "\n",
    "    def fit(self, X, y):\n",
    "        self.data = X\n",
    "        self.target = y\n",
    "        self.n_classes = len(np.unique(y))\n",
    "        return self\n",
    "\n",
    "    def distance(self, t):\n",
    "        return (np.sum((self.data - t) ** self.m_p, axis=1)) ** (1 / self.m_p)\n",
    "\n",
    "    def euclidean_distance(self, t):\n",
    "        return np.sqrt(np.sum((self.data - t) ** 2, axis=1))\n",
    "\n",
    "    def find_class_brute(self, t):\n",
    "        mas = self.distance(t)\n",
    "        a = (mas.argsort())[:self.n_neighbors]\n",
    "        imp = np.zeros(self.n_classes)\n",
    "        ans = -1\n",
    "        for i in range(self.n_neighbors):\n",
    "            if mas[a[i]] <= 1e-9:\n",
    "                ans = self.target[a[i]]\n",
    "                break\n",
    "            imp[self.target[a[i]]] += (1 / mas[a[i]])\n",
    "        if ans == -1:\n",
    "            ans = imp.argmax()\n",
    "        return ans\n",
    "\n",
    "    def find_class_kd_tree(self, X):\n",
    "        tree = KDTree(self.data, leaf_size=self.n_neighbors)\n",
    "        mas, ind = tree.query(X, k=self.n_neighbors)\n",
    "        ans = np.zeros(len(X)) - 1\n",
    "        for i in range(len(X)):\n",
    "            imp = np.zeros(self.n_classes)\n",
    "            for j in range(self.n_neighbors):\n",
    "                if mas[i][j] <= 1e-9:\n",
    "                    ans[i] = self.target[ind[i][j]]\n",
    "                    break\n",
    "                imp[int(self.target[ind[i][j]])] += (1 / mas[i][j])\n",
    "            if ans[i] == -1:\n",
    "                ans[i] = int(imp.argmax())\n",
    "        return ans\n",
    "\n",
    "    def predict(self, X):\n",
    "        if self.algorithm == 'brute':\n",
    "            ans = np.zeros(len(X))\n",
    "            distance = cdist(X, self.data)\n",
    "            for j in range(len(X)):\n",
    "                mas = distance[j]\n",
    "                a = (mas.argsort())[:self.n_neighbors]\n",
    "                imp = np.zeros(self.n_classes)\n",
    "                ans[j] = -1\n",
    "                for i in range(self.n_neighbors):\n",
    "                    if mas[a[i]] <= 1e-15:\n",
    "                        ans[j] = self.target[a[i]]\n",
    "                        break\n",
    "                    imp[int(self.target[int(a[i])])] += (1 / mas[a[i]])\n",
    "                if ans[j] == -1:\n",
    "                    ans[j] = imp.argmax()\n",
    "            self.ans = ans\n",
    "\n",
    "        if self.algorithm == 'kd_tree':\n",
    "            self.ans = self.find_class_kd_tree(X)\n",
    "            ans = self.ans\n",
    "        return ans\n",
    "\n",
    "    def predict_proba(self, X):\n",
    "        W = np.zeros((len(X), self.n_classes))\n",
    "\n",
    "        if self.algorithm == 'brute':\n",
    "            distance = cdist(X, self.data)\n",
    "            for j in range(len(X)):\n",
    "                a = (distance[j].argsort())[:self.n_neighbors]\n",
    "                for i in range(self.n_neighbors):\n",
    "                    W[j][int(self.target[int(a[i])])] += 1\n",
    "                W[j] /= self.n_neighbors\n",
    "\n",
    "        if self.algorithm == 'kd_tree':\n",
    "            tree = KDTree(self.data, leaf_size=self.n_neighbors)\n",
    "            mas, ind = tree.query(X, k=self.n_neighbors)\n",
    "            for j in range(len(X)):\n",
    "                for i in range(self.n_neighbors):\n",
    "                    W[j][int(self.target[int(ind[j][i])])] += 1\n",
    "                W[j] /= self.n_neighbors\n",
    "\n",
    "        return W\n",
    "\n",
    "    def score(self, X, y):\n",
    "        a = self.ans\n",
    "        sc = 0\n",
    "        i = 0\n",
    "        for p in a:\n",
    "            if int(p) == int(y[i]):\n",
    "                sc += 1\n",
    "            i += 1\n",
    "        sc = sc / int(len(X))\n",
    "        return sc\n"
   ]
  },
  {
   "cell_type": "markdown",
   "metadata": {},
   "source": [
    "**IRIS**"
   ]
  },
  {
   "cell_type": "code",
   "execution_count": 45,
   "metadata": {},
   "outputs": [],
   "source": [
    "iris = datasets.load_iris()\n"
   ]
  },
  {
   "cell_type": "code",
   "execution_count": 46,
   "metadata": {},
   "outputs": [],
   "source": [
    "X_train, X_test, y_train, y_test = train_test_split(iris.data, iris.target, test_size=0.1, stratify=iris.target)"
   ]
  },
  {
   "cell_type": "code",
   "execution_count": 47,
   "metadata": {},
   "outputs": [],
   "source": [
    "clf = KNeighborsClassifier(n_neighbors=2)\n",
    "my_clf = MyKNeighborsClassifier(n_neighbors=2)"
   ]
  },
  {
   "cell_type": "code",
   "execution_count": 48,
   "metadata": {},
   "outputs": [
    {
     "name": "stdout",
     "output_type": "stream",
     "text": [
      "Wall time: 3.47 ms\n"
     ]
    },
    {
     "data": {
      "text/plain": [
       "KNeighborsClassifier(algorithm='auto', leaf_size=30, metric='minkowski',\n",
       "           metric_params=None, n_jobs=None, n_neighbors=2, p=2,\n",
       "           weights='uniform')"
      ]
     },
     "execution_count": 48,
     "metadata": {},
     "output_type": "execute_result"
    }
   ],
   "source": [
    "%time clf.fit(X_train, y_train)"
   ]
  },
  {
   "cell_type": "code",
   "execution_count": 49,
   "metadata": {},
   "outputs": [
    {
     "name": "stdout",
     "output_type": "stream",
     "text": [
      "Wall time: 606 µs\n"
     ]
    },
    {
     "data": {
      "text/plain": [
       "MyKNeighborsClassifier(algorithm='brute', metric='minkowski', n_neighbors=2,\n",
       "            p=None, weights='uniform')"
      ]
     },
     "execution_count": 49,
     "metadata": {},
     "output_type": "execute_result"
    }
   ],
   "source": [
    "%time my_clf.fit(X_train, y_train)"
   ]
  },
  {
   "cell_type": "code",
   "execution_count": 50,
   "metadata": {},
   "outputs": [
    {
     "name": "stdout",
     "output_type": "stream",
     "text": [
      "Wall time: 7.41 ms\n"
     ]
    },
    {
     "data": {
      "text/plain": [
       "array([0, 1, 0, 1, 0, 2, 1, 2, 0, 2, 1, 1, 1, 0, 2])"
      ]
     },
     "execution_count": 50,
     "metadata": {},
     "output_type": "execute_result"
    }
   ],
   "source": [
    "%time clf.predict(X_test)"
   ]
  },
  {
   "cell_type": "code",
   "execution_count": 51,
   "metadata": {},
   "outputs": [
    {
     "name": "stdout",
     "output_type": "stream",
     "text": [
      "Wall time: 2.48 ms\n"
     ]
    },
    {
     "data": {
      "text/plain": [
       "array([0., 1., 0., 1., 0., 2., 1., 2., 0., 2., 1., 2., 1., 0., 2.])"
      ]
     },
     "execution_count": 51,
     "metadata": {},
     "output_type": "execute_result"
    }
   ],
   "source": [
    "%time my_clf.predict(X_test)"
   ]
  },
  {
   "cell_type": "code",
   "execution_count": 52,
   "metadata": {},
   "outputs": [
    {
     "name": "stdout",
     "output_type": "stream",
     "text": [
      "Wall time: 1.98 ms\n"
     ]
    },
    {
     "data": {
      "text/plain": [
       "array([[1. , 0. , 0. ],\n",
       "       [0. , 1. , 0. ],\n",
       "       [1. , 0. , 0. ],\n",
       "       [0. , 1. , 0. ],\n",
       "       [1. , 0. , 0. ],\n",
       "       [0. , 0. , 1. ],\n",
       "       [0. , 1. , 0. ],\n",
       "       [0. , 0. , 1. ],\n",
       "       [1. , 0. , 0. ],\n",
       "       [0. , 0. , 1. ],\n",
       "       [0. , 1. , 0. ],\n",
       "       [0. , 0.5, 0.5],\n",
       "       [0. , 1. , 0. ],\n",
       "       [1. , 0. , 0. ],\n",
       "       [0. , 0. , 1. ]])"
      ]
     },
     "execution_count": 52,
     "metadata": {},
     "output_type": "execute_result"
    }
   ],
   "source": [
    "%time clf.predict_proba(X_test)"
   ]
  },
  {
   "cell_type": "code",
   "execution_count": 53,
   "metadata": {},
   "outputs": [
    {
     "name": "stdout",
     "output_type": "stream",
     "text": [
      "Wall time: 3.96 ms\n"
     ]
    },
    {
     "data": {
      "text/plain": [
       "array([[1. , 0. , 0. ],\n",
       "       [0. , 1. , 0. ],\n",
       "       [1. , 0. , 0. ],\n",
       "       [0. , 1. , 0. ],\n",
       "       [1. , 0. , 0. ],\n",
       "       [0. , 0. , 1. ],\n",
       "       [0. , 1. , 0. ],\n",
       "       [0. , 0. , 1. ],\n",
       "       [1. , 0. , 0. ],\n",
       "       [0. , 0. , 1. ],\n",
       "       [0. , 1. , 0. ],\n",
       "       [0. , 0.5, 0.5],\n",
       "       [0. , 1. , 0. ],\n",
       "       [1. , 0. , 0. ],\n",
       "       [0. , 0. , 1. ]])"
      ]
     },
     "execution_count": 53,
     "metadata": {},
     "output_type": "execute_result"
    }
   ],
   "source": [
    "%time my_clf.predict_proba(X_test)"
   ]
  },
  {
   "cell_type": "code",
   "execution_count": 54,
   "metadata": {},
   "outputs": [
    {
     "data": {
      "text/plain": [
       "0.9333333333333333"
      ]
     },
     "execution_count": 54,
     "metadata": {},
     "output_type": "execute_result"
    }
   ],
   "source": [
    "clf.score(X_test, y_test)"
   ]
  },
  {
   "cell_type": "code",
   "execution_count": 55,
   "metadata": {},
   "outputs": [
    {
     "data": {
      "text/plain": [
       "1.0"
      ]
     },
     "execution_count": 55,
     "metadata": {},
     "output_type": "execute_result"
    }
   ],
   "source": [
    "my_clf.score(X_test, y_test)"
   ]
  },
  {
   "cell_type": "markdown",
   "metadata": {},
   "source": [
    "Задание 3"
   ]
  },
  {
   "cell_type": "code",
   "execution_count": 56,
   "metadata": {},
   "outputs": [
    {
     "name": "stdout",
     "output_type": "stream",
     "text": [
      "The best score for n = 13\n"
     ]
    },
    {
     "data": {
      "image/png": "[encoded data removed]",
      "text/plain": [
       "<Figure size 1440x720 with 2 Axes>"
      ]
     },
     "metadata": {
      "needs_background": "light"
     },
     "output_type": "display_data"
    }
   ],
   "source": [
    "iris = datasets.load_iris()\n",
    "x = np.arange(1, 51)\n",
    "y = np.zeros(shape=50)\n",
    "\n",
    "for j in range(50):\n",
    "    X_train, X_test, y_train, y_test = train_test_split(\n",
    "    iris.data, iris.target, test_size=0.1, \n",
    "    stratify=iris.target)\n",
    "    for i in range(1, 51):\n",
    "        my_clf = MyKNeighborsClassifier(n_neighbors = i)\n",
    "        my_clf.data = X_train\n",
    "        my_clf.target = y_train\n",
    "        my_clf.n_classes = len(np.unique(y_train))\n",
    "        my_clf.predict(X_test)\n",
    "        y[i-1] += my_clf.score(X_test, y_test)\n",
    "        \n",
    "y = y / 50        \n",
    "t = x[y.argmax()]\n",
    "print('The best score for n = ' + str(t))\n",
    "\n",
    "fig = pylab.figure(figsize = (20, 10))\n",
    "ax = fig.add_subplot(211) \n",
    "ax.plot(x, y)\n",
    "pylab.ylim(0, 1.1)\n",
    "ax.set_title('График зависимости score от n_neighbors в метрике от 0 до 1')\n",
    "\n",
    "ax1 = fig.add_subplot(212)\n",
    "ax1.plot(x, y)\n",
    "pylab.ylim(0.9, 1.01)\n",
    "ax1.set_title('График зависимости score от n_neighbors в метрике от 0.9 до 1')\n",
    "\n",
    "pylab.show()\n",
    "\n"
   ]
  },
  {
   "cell_type": "markdown",
   "metadata": {},
   "source": [
    "**MNIST**"
   ]
  },
  {
   "cell_type": "code",
   "execution_count": 57,
   "metadata": {},
   "outputs": [],
   "source": [
    "from sklearn.datasets import fetch_openml\n",
    "mnist = fetch_openml('mnist_784', version=1, cache=True)\n",
    "\n",
    "clf = KNeighborsClassifier(n_neighbors=17)\n",
    "my_clf = MyKNeighborsClassifier(n_neighbors=17)"
   ]
  },
  {
   "cell_type": "code",
   "execution_count": 58,
   "metadata": {},
   "outputs": [],
   "source": [
    "X_train, X_test, y_train, y_test = train_test_split(mnist.data, mnist.target, test_size=0.01, stratify=mnist.target)"
   ]
  },
  {
   "cell_type": "code",
   "execution_count": 59,
   "metadata": {},
   "outputs": [],
   "source": [
    "clf = KNeighborsClassifier(n_neighbors = 17)\n",
    "my_clf = MyKNeighborsClassifier(n_neighbors = 17)"
   ]
  },
  {
   "cell_type": "code",
   "execution_count": 60,
   "metadata": {},
   "outputs": [
    {
     "name": "stdout",
     "output_type": "stream",
     "text": [
      "Wall time: 48.3 s\n"
     ]
    },
    {
     "data": {
      "text/plain": [
       "KNeighborsClassifier(algorithm='auto', leaf_size=30, metric='minkowski',\n",
       "           metric_params=None, n_jobs=None, n_neighbors=17, p=2,\n",
       "           weights='uniform')"
      ]
     },
     "execution_count": 60,
     "metadata": {},
     "output_type": "execute_result"
    }
   ],
   "source": [
    "%time clf.fit(X_train, y_train)"
   ]
  },
  {
   "cell_type": "code",
   "execution_count": 61,
   "metadata": {},
   "outputs": [
    {
     "name": "stdout",
     "output_type": "stream",
     "text": [
      "Wall time: 56 ms\n"
     ]
    },
    {
     "data": {
      "text/plain": [
       "MyKNeighborsClassifier(algorithm='brute', metric='minkowski', n_neighbors=17,\n",
       "            p=None, weights='uniform')"
      ]
     },
     "execution_count": 61,
     "metadata": {},
     "output_type": "execute_result"
    }
   ],
   "source": [
    "%time my_clf.fit(X_train, y_train)"
   ]
  },
  {
   "cell_type": "code",
   "execution_count": 62,
   "metadata": {},
   "outputs": [
    {
     "name": "stdout",
     "output_type": "stream",
     "text": [
      "Wall time: 2min 13s\n"
     ]
    },
    {
     "data": {
      "text/plain": [
       "array(['3', '8', '8', '7', '6', '1', '8', '2', '3', '6', '6', '3', '4',\n",
       "       '6', '2', '7', '7', '0', '4', '2', '6', '4', '2', '7', '9', '3',\n",
       "       '3', '9', '9', '7', '1', '6', '6', '3', '8', '8', '1', '5', '1',\n",
       "       '7', '0', '9', '2', '1', '3', '6', '2', '5', '5', '6', '9', '9',\n",
       "       '0', '7', '8', '0', '1', '3', '3', '8', '5', '6', '8', '2', '2',\n",
       "       '4', '8', '9', '5', '8', '9', '8', '8', '2', '5', '9', '3', '4',\n",
       "       '7', '3', '9', '9', '8', '9', '4', '1', '4', '0', '0', '1', '6',\n",
       "       '0', '0', '3', '3', '8', '4', '9', '5', '9', '8', '2', '0', '5',\n",
       "       '1', '8', '2', '8', '8', '4', '8', '9', '7', '6', '6', '1', '2',\n",
       "       '4', '0', '2', '2', '8', '8', '7', '2', '4', '0', '7', '6', '0',\n",
       "       '8', '0', '1', '3', '8', '2', '8', '9', '7', '5', '7', '4', '1',\n",
       "       '9', '7', '6', '0', '0', '1', '1', '2', '1', '5', '9', '0', '0',\n",
       "       '3', '1', '6', '6', '3', '8', '1', '6', '5', '0', '3', '7', '8',\n",
       "       '4', '8', '2', '3', '7', '0', '2', '1', '0', '1', '9', '0', '4',\n",
       "       '1', '9', '4', '2', '6', '2', '4', '4', '6', '7', '1', '7', '4',\n",
       "       '0', '6', '7', '2', '5', '4', '4', '4', '2', '4', '9', '1', '6',\n",
       "       '3', '4', '4', '0', '7', '4', '0', '5', '5', '0', '9', '7', '9',\n",
       "       '1', '3', '5', '8', '5', '0', '5', '1', '2', '3', '9', '2', '2',\n",
       "       '2', '6', '9', '6', '7', '1', '3', '6', '1', '5', '9', '0', '1',\n",
       "       '4', '0', '5', '3', '2', '0', '3', '0', '1', '8', '1', '6', '5',\n",
       "       '9', '8', '4', '5', '6', '5', '9', '7', '7', '1', '4', '1', '9',\n",
       "       '8', '3', '3', '1', '4', '3', '1', '4', '9', '3', '7', '4', '0',\n",
       "       '1', '1', '6', '1', '6', '0', '0', '9', '1', '7', '9', '0', '6',\n",
       "       '7', '5', '9', '2', '9', '1', '4', '4', '7', '3', '9', '0', '6',\n",
       "       '2', '8', '0', '9', '6', '7', '2', '1', '2', '3', '1', '2', '8',\n",
       "       '5', '3', '1', '3', '6', '7', '2', '0', '2', '2', '9', '7', '3',\n",
       "       '5', '6', '5', '7', '1', '6', '4', '0', '1', '3', '0', '2', '6',\n",
       "       '5', '4', '2', '8', '1', '1', '0', '5', '2', '5', '9', '1', '9',\n",
       "       '6', '9', '1', '4', '1', '6', '8', '4', '0', '6', '5', '4', '5',\n",
       "       '7', '6', '5', '9', '9', '7', '7', '9', '1', '6', '0', '8', '2',\n",
       "       '5', '0', '3', '5', '1', '1', '8', '2', '2', '1', '8', '3', '6',\n",
       "       '3', '3', '3', '7', '2', '1', '5', '3', '4', '2', '7', '0', '4',\n",
       "       '3', '7', '6', '1', '3', '9', '7', '4', '5', '3', '2', '6', '9',\n",
       "       '0', '1', '1', '7', '7', '3', '3', '1', '7', '3', '8', '4', '8',\n",
       "       '9', '0', '3', '3', '7', '9', '0', '4', '1', '7', '0', '3', '7',\n",
       "       '4', '7', '0', '5', '2', '9', '4', '9', '6', '7', '1', '5', '5',\n",
       "       '6', '3', '1', '4', '9', '6', '4', '9', '4', '0', '7', '2', '8',\n",
       "       '5', '6', '7', '8', '4', '3', '7', '0', '1', '0', '7', '4', '9',\n",
       "       '2', '6', '2', '0', '4', '5', '8', '9', '8', '2', '7', '3', '0',\n",
       "       '3', '9', '4', '7', '4', '6', '6', '7', '5', '0', '2', '6', '5',\n",
       "       '7', '8', '7', '5', '1', '4', '4', '7', '1', '1', '0', '2', '7',\n",
       "       '5', '2', '7', '7', '6', '7', '7', '9', '7', '9', '7', '0', '5',\n",
       "       '3', '2', '8', '6', '8', '9', '9', '5', '5', '1', '6', '1', '6',\n",
       "       '3', '8', '0', '5', '1', '5', '3', '4', '7', '5', '1', '9', '8',\n",
       "       '4', '9', '8', '8', '1', '6', '5', '6', '0', '7', '5', '6', '0',\n",
       "       '1', '8', '0', '8', '9', '5', '8', '7', '0', '9', '6', '1', '8',\n",
       "       '2', '8', '3', '2', '3', '6', '1', '5', '3', '8', '6', '7', '1',\n",
       "       '6', '2', '5', '6', '8', '2', '1', '1', '7', '3', '9', '1', '2',\n",
       "       '1', '6', '3', '0', '0', '2', '7', '7', '2', '2', '9', '2', '0',\n",
       "       '9', '3', '5', '1', '4', '8', '6', '1', '6', '4', '3', '8', '3',\n",
       "       '7', '6', '4', '0', '2', '8', '2', '3', '0', '4', '7', '4', '3',\n",
       "       '4', '7', '1', '7', '6', '0', '3', '1', '4', '7', '9', '4', '1',\n",
       "       '8', '2', '5', '2', '4', '4', '7', '4', '1', '9', '5', '3', '3',\n",
       "       '5', '3', '5', '0', '2', '3', '9', '6', '3', '3', '9'],\n",
       "      dtype=object)"
      ]
     },
     "execution_count": 62,
     "metadata": {},
     "output_type": "execute_result"
    }
   ],
   "source": [
    "%time clf.predict(X_test)"
   ]
  },
  {
   "cell_type": "code",
   "execution_count": 63,
   "metadata": {},
   "outputs": [
    {
     "name": "stdout",
     "output_type": "stream",
     "text": [
      "Wall time: 1min 37s\n"
     ]
    },
    {
     "data": {
      "text/plain": [
       "array([3., 8., 8., 7., 6., 1., 8., 2., 3., 6., 6., 3., 4., 6., 2., 7., 7.,\n",
       "       0., 4., 2., 6., 4., 2., 7., 9., 3., 3., 9., 9., 7., 1., 6., 6., 3.,\n",
       "       8., 8., 1., 5., 1., 7., 0., 9., 2., 1., 3., 6., 2., 5., 5., 6., 9.,\n",
       "       9., 0., 7., 8., 0., 1., 3., 3., 8., 5., 6., 8., 2., 2., 4., 8., 9.,\n",
       "       5., 8., 9., 8., 8., 2., 5., 9., 8., 4., 7., 3., 9., 9., 8., 9., 4.,\n",
       "       1., 4., 0., 0., 1., 6., 0., 0., 3., 3., 8., 4., 9., 5., 9., 8., 2.,\n",
       "       0., 5., 1., 8., 2., 8., 8., 4., 8., 9., 7., 6., 6., 1., 2., 4., 0.,\n",
       "       2., 2., 8., 8., 7., 2., 4., 0., 7., 6., 0., 8., 0., 1., 3., 8., 2.,\n",
       "       8., 9., 7., 5., 7., 4., 1., 9., 7., 6., 0., 0., 1., 1., 2., 1., 5.,\n",
       "       9., 0., 0., 3., 1., 6., 6., 3., 8., 1., 6., 5., 0., 3., 7., 8., 4.,\n",
       "       8., 2., 3., 7., 0., 2., 1., 0., 1., 9., 0., 4., 1., 9., 4., 2., 6.,\n",
       "       2., 4., 4., 6., 7., 1., 7., 4., 0., 6., 7., 2., 5., 4., 4., 4., 2.,\n",
       "       4., 9., 1., 6., 3., 4., 4., 0., 7., 4., 0., 5., 5., 0., 9., 7., 9.,\n",
       "       1., 3., 5., 8., 5., 0., 5., 1., 2., 3., 9., 2., 2., 2., 6., 9., 6.,\n",
       "       7., 1., 3., 6., 1., 5., 9., 0., 8., 4., 0., 5., 3., 2., 0., 3., 0.,\n",
       "       1., 8., 1., 6., 5., 9., 8., 4., 5., 6., 5., 9., 7., 7., 1., 4., 1.,\n",
       "       9., 8., 3., 3., 1., 4., 3., 1., 4., 9., 3., 7., 4., 0., 1., 1., 6.,\n",
       "       1., 6., 0., 0., 9., 1., 7., 9., 0., 6., 7., 5., 9., 2., 9., 1., 4.,\n",
       "       4., 7., 3., 9., 0., 6., 2., 8., 0., 9., 6., 7., 2., 1., 2., 3., 1.,\n",
       "       2., 8., 5., 3., 1., 3., 6., 7., 2., 0., 2., 2., 9., 7., 3., 5., 6.,\n",
       "       5., 7., 1., 6., 4., 0., 1., 3., 0., 2., 6., 5., 4., 2., 8., 1., 1.,\n",
       "       0., 5., 2., 5., 9., 1., 9., 6., 9., 1., 4., 1., 6., 8., 4., 0., 6.,\n",
       "       5., 4., 5., 7., 6., 5., 9., 9., 7., 7., 9., 1., 6., 0., 8., 2., 5.,\n",
       "       0., 3., 5., 1., 1., 8., 2., 2., 1., 8., 3., 6., 3., 3., 3., 7., 2.,\n",
       "       1., 5., 3., 4., 2., 7., 0., 4., 3., 7., 6., 1., 3., 9., 7., 4., 5.,\n",
       "       3., 2., 6., 9., 0., 1., 1., 7., 7., 3., 3., 1., 7., 3., 8., 4., 8.,\n",
       "       9., 0., 3., 3., 7., 9., 0., 4., 1., 7., 0., 3., 7., 4., 7., 0., 5.,\n",
       "       2., 9., 4., 9., 6., 7., 1., 5., 5., 6., 3., 1., 4., 9., 6., 4., 9.,\n",
       "       4., 0., 7., 2., 8., 5., 6., 7., 8., 4., 3., 7., 0., 1., 0., 7., 4.,\n",
       "       9., 2., 6., 2., 0., 4., 5., 8., 9., 8., 2., 7., 3., 0., 3., 9., 4.,\n",
       "       7., 4., 6., 6., 7., 5., 0., 2., 6., 5., 7., 8., 7., 5., 1., 4., 4.,\n",
       "       7., 1., 1., 0., 2., 7., 5., 2., 7., 7., 6., 7., 7., 9., 7., 9., 7.,\n",
       "       0., 5., 3., 2., 8., 6., 8., 9., 9., 5., 5., 1., 6., 1., 6., 3., 8.,\n",
       "       0., 5., 1., 5., 3., 4., 7., 5., 1., 9., 8., 4., 9., 8., 8., 1., 6.,\n",
       "       5., 6., 0., 7., 5., 6., 0., 1., 8., 0., 8., 9., 5., 8., 7., 0., 9.,\n",
       "       6., 1., 8., 2., 8., 3., 2., 3., 6., 1., 5., 3., 8., 6., 7., 1., 6.,\n",
       "       2., 5., 6., 8., 2., 1., 1., 7., 3., 9., 1., 2., 1., 6., 3., 0., 0.,\n",
       "       2., 7., 7., 2., 2., 9., 2., 0., 9., 3., 5., 1., 4., 8., 6., 1., 6.,\n",
       "       4., 3., 8., 3., 7., 6., 4., 0., 2., 8., 2., 3., 0., 4., 7., 4., 3.,\n",
       "       4., 7., 1., 7., 6., 0., 3., 1., 4., 7., 9., 4., 1., 8., 2., 5., 2.,\n",
       "       4., 4., 7., 4., 1., 9., 5., 3., 3., 5., 3., 5., 0., 2., 3., 9., 6.,\n",
       "       3., 3., 9.])"
      ]
     },
     "execution_count": 63,
     "metadata": {},
     "output_type": "execute_result"
    }
   ],
   "source": [
    "%time my_clf.predict(X_test)"
   ]
  },
  {
   "cell_type": "code",
   "execution_count": 64,
   "metadata": {},
   "outputs": [
    {
     "name": "stdout",
     "output_type": "stream",
     "text": [
      "Wall time: 2min 22s\n"
     ]
    },
    {
     "data": {
      "text/plain": [
       "array([[0., 0., 0., ..., 0., 0., 0.],\n",
       "       [0., 0., 0., ..., 0., 1., 0.],\n",
       "       [0., 0., 0., ..., 0., 1., 0.],\n",
       "       ...,\n",
       "       [0., 0., 0., ..., 0., 0., 0.],\n",
       "       [0., 0., 0., ..., 0., 0., 0.],\n",
       "       [0., 0., 0., ..., 0., 0., 1.]])"
      ]
     },
     "execution_count": 64,
     "metadata": {},
     "output_type": "execute_result"
    }
   ],
   "source": [
    "%time clf.predict_proba(X_test)"
   ]
  },
  {
   "cell_type": "code",
   "execution_count": 65,
   "metadata": {},
   "outputs": [
    {
     "name": "stdout",
     "output_type": "stream",
     "text": [
      "Wall time: 1min 37s\n"
     ]
    },
    {
     "data": {
      "text/plain": [
       "array([[0., 0., 0., ..., 0., 0., 0.],\n",
       "       [0., 0., 0., ..., 0., 1., 0.],\n",
       "       [0., 0., 0., ..., 0., 1., 0.],\n",
       "       ...,\n",
       "       [0., 0., 0., ..., 0., 0., 0.],\n",
       "       [0., 0., 0., ..., 0., 0., 0.],\n",
       "       [0., 0., 0., ..., 0., 0., 1.]])"
      ]
     },
     "execution_count": 65,
     "metadata": {},
     "output_type": "execute_result"
    }
   ],
   "source": [
    "%time my_clf.predict_proba(X_test)"
   ]
  },
  {
   "cell_type": "code",
   "execution_count": 66,
   "metadata": {},
   "outputs": [
    {
     "data": {
      "text/plain": [
       "0.9728571428571429"
      ]
     },
     "execution_count": 66,
     "metadata": {},
     "output_type": "execute_result"
    }
   ],
   "source": [
    "clf.score(X_test, y_test)"
   ]
  },
  {
   "cell_type": "code",
   "execution_count": 67,
   "metadata": {},
   "outputs": [
    {
     "data": {
      "text/plain": [
       "0.9757142857142858"
      ]
     },
     "execution_count": 67,
     "metadata": {},
     "output_type": "execute_result"
    }
   ],
   "source": [
    "my_clf.score(X_test, y_test)"
   ]
  },
  {
   "cell_type": "markdown",
   "metadata": {},
   "source": [
    "Задание 4"
   ]
  },
  {
   "cell_type": "code",
   "execution_count": 79,
   "metadata": {},
   "outputs": [],
   "source": [
    "clf = KNeighborsClassifier(n_neighbors=13, algorithm='kd_tree')\n",
    "my_clf = MyKNeighborsClassifier(n_neighbors=13, algorithm='kd_tree')"
   ]
  },
  {
   "cell_type": "code",
   "execution_count": 80,
   "metadata": {},
   "outputs": [],
   "source": [
    "X_train, X_test, y_train, y_test = train_test_split(mnist.data, mnist.target, test_size=0.01, stratify=mnist.target)"
   ]
  },
  {
   "cell_type": "code",
   "execution_count": 81,
   "metadata": {},
   "outputs": [
    {
     "name": "stdout",
     "output_type": "stream",
     "text": [
      "Wall time: 29.8 s\n"
     ]
    },
    {
     "data": {
      "text/plain": [
       "KNeighborsClassifier(algorithm='kd_tree', leaf_size=30, metric='minkowski',\n",
       "           metric_params=None, n_jobs=None, n_neighbors=18, p=2,\n",
       "           weights='uniform')"
      ]
     },
     "execution_count": 81,
     "metadata": {},
     "output_type": "execute_result"
    }
   ],
   "source": [
    "%time clf.fit(X_train, y_train)"
   ]
  },
  {
   "cell_type": "code",
   "execution_count": 82,
   "metadata": {},
   "outputs": [
    {
     "name": "stdout",
     "output_type": "stream",
     "text": [
      "Wall time: 38.7 ms\n"
     ]
    },
    {
     "data": {
      "text/plain": [
       "MyKNeighborsClassifier(algorithm='kd_tree', metric='minkowski',\n",
       "            n_neighbors=18, p=None, weights='uniform')"
      ]
     },
     "execution_count": 82,
     "metadata": {},
     "output_type": "execute_result"
    }
   ],
   "source": [
    "%time my_clf.fit(X_train, y_train)"
   ]
  },
  {
   "cell_type": "code",
   "execution_count": 83,
   "metadata": {},
   "outputs": [
    {
     "name": "stdout",
     "output_type": "stream",
     "text": [
      "Wall time: 1min 13s\n"
     ]
    },
    {
     "data": {
      "text/plain": [
       "array(['1', '5', '3', '4', '7', '9', '3', '9', '6', '4', '4', '6', '0',\n",
       "       '0', '9', '4', '1', '2', '4', '7', '8', '9', '4', '1', '4', '5',\n",
       "       '4', '0', '9', '6', '0', '3', '3', '5', '1', '3', '4', '0', '9',\n",
       "       '4', '1', '5', '7', '8', '1', '2', '1', '0', '6', '2', '0', '4',\n",
       "       '7', '2', '0', '7', '7', '6', '1', '3', '7', '4', '5', '0', '4',\n",
       "       '4', '7', '7', '9', '8', '1', '3', '7', '4', '2', '3', '2', '5',\n",
       "       '6', '2', '8', '9', '3', '6', '4', '1', '4', '4', '0', '2', '2',\n",
       "       '4', '7', '8', '7', '3', '1', '3', '0', '7', '3', '6', '3', '1',\n",
       "       '5', '1', '4', '8', '2', '4', '8', '3', '9', '3', '2', '7', '3',\n",
       "       '2', '3', '9', '8', '7', '1', '1', '7', '8', '2', '0', '6', '5',\n",
       "       '7', '8', '2', '9', '3', '7', '8', '7', '2', '0', '8', '5', '1',\n",
       "       '9', '1', '5', '2', '4', '1', '0', '4', '7', '4', '9', '8', '4',\n",
       "       '9', '8', '6', '0', '8', '8', '2', '2', '0', '2', '0', '4', '1',\n",
       "       '4', '2', '0', '6', '2', '5', '0', '8', '5', '0', '6', '4', '8',\n",
       "       '9', '2', '1', '2', '3', '3', '3', '9', '2', '9', '1', '2', '6',\n",
       "       '5', '6', '2', '0', '7', '1', '7', '1', '0', '0', '2', '4', '5',\n",
       "       '9', '0', '0', '4', '8', '3', '7', '6', '0', '3', '5', '0', '5',\n",
       "       '9', '1', '5', '2', '1', '8', '9', '7', '3', '1', '4', '5', '4',\n",
       "       '3', '6', '8', '7', '1', '1', '6', '0', '1', '1', '3', '7', '1',\n",
       "       '4', '0', '5', '8', '8', '0', '1', '2', '7', '7', '6', '3', '8',\n",
       "       '8', '1', '7', '1', '4', '8', '3', '1', '3', '0', '0', '4', '3',\n",
       "       '7', '3', '7', '2', '0', '9', '1', '8', '4', '3', '8', '7', '7',\n",
       "       '5', '6', '7', '0', '9', '8', '0', '6', '2', '9', '1', '3', '8',\n",
       "       '6', '0', '3', '2', '8', '7', '8', '7', '5', '9', '5', '9', '4',\n",
       "       '1', '4', '9', '0', '4', '1', '5', '7', '8', '7', '9', '9', '1',\n",
       "       '8', '5', '0', '1', '3', '0', '1', '2', '4', '3', '3', '8', '6',\n",
       "       '9', '1', '4', '6', '5', '5', '9', '6', '6', '1', '0', '6', '4',\n",
       "       '9', '9', '7', '0', '1', '6', '8', '2', '1', '3', '9', '5', '9',\n",
       "       '1', '0', '9', '1', '5', '0', '8', '0', '7', '4', '9', '5', '2',\n",
       "       '7', '4', '3', '7', '5', '2', '0', '8', '3', '7', '6', '9', '6',\n",
       "       '1', '9', '5', '0', '9', '0', '0', '1', '8', '3', '8', '8', '7',\n",
       "       '6', '1', '3', '5', '8', '5', '8', '7', '2', '1', '8', '7', '5',\n",
       "       '4', '1', '1', '3', '7', '6', '1', '1', '7', '6', '9', '1', '0',\n",
       "       '4', '1', '9', '6', '8', '1', '7', '9', '4', '7', '4', '8', '4',\n",
       "       '2', '1', '3', '1', '0', '6', '0', '1', '0', '6', '6', '6', '9',\n",
       "       '2', '2', '9', '8', '2', '4', '3', '7', '6', '9', '8', '6', '0',\n",
       "       '2', '2', '3', '1', '5', '5', '7', '6', '7', '1', '6', '7', '8',\n",
       "       '3', '1', '4', '8', '2', '2', '5', '9', '4', '9', '7', '3', '6',\n",
       "       '5', '2', '2', '0', '4', '4', '0', '6', '9', '0', '7', '6', '9',\n",
       "       '2', '8', '2', '4', '4', '7', '3', '3', '5', '8', '9', '0', '2',\n",
       "       '2', '2', '2', '7', '3', '4', '1', '4', '8', '0', '7', '8', '9',\n",
       "       '5', '6', '5', '6', '5', '3', '5', '8', '2', '8', '0', '0', '1',\n",
       "       '1', '4', '1', '1', '9', '9', '3', '0', '6', '6', '9', '4', '3',\n",
       "       '9', '7', '3', '6', '0', '0', '2', '9', '8', '6', '0', '1', '2',\n",
       "       '1', '5', '1', '5', '4', '1', '0', '2', '8', '3', '7', '8', '5',\n",
       "       '3', '1', '2', '3', '2', '0', '0', '6', '5', '5', '8', '9', '6',\n",
       "       '1', '1', '6', '0', '1', '8', '0', '7', '9', '6', '8', '2', '4',\n",
       "       '9', '1', '2', '8', '6', '9', '3', '7', '5', '2', '3', '5', '6',\n",
       "       '2', '0', '1', '7', '6', '1', '3', '7', '2', '4', '6', '7', '7',\n",
       "       '8', '1', '7', '6', '6', '4', '4', '9', '3', '9', '5', '3', '9',\n",
       "       '3', '3', '6', '5', '8', '5', '5', '3', '6', '6', '4', '6', '3',\n",
       "       '3', '2', '7', '9', '6', '5', '5', '4', '5', '9', '4', '2', '0',\n",
       "       '5', '0', '5', '9', '2', '1', '9', '9', '7', '4', '7', '3', '2',\n",
       "       '9', '6', '2', '5', '8', '6', '8', '5', '1', '6', '9'],\n",
       "      dtype=object)"
      ]
     },
     "execution_count": 83,
     "metadata": {},
     "output_type": "execute_result"
    }
   ],
   "source": [
    "%time clf.predict(X_test)"
   ]
  },
  {
   "cell_type": "code",
   "execution_count": 84,
   "metadata": {},
   "outputs": [
    {
     "name": "stdout",
     "output_type": "stream",
     "text": [
      "Wall time: 1min 39s\n"
     ]
    },
    {
     "data": {
      "text/plain": [
       "array([1., 5., 3., 4., 7., 9., 3., 9., 6., 4., 4., 6., 0., 0., 9., 4., 1.,\n",
       "       2., 4., 7., 8., 9., 7., 1., 4., 5., 4., 0., 9., 6., 0., 3., 3., 5.,\n",
       "       1., 3., 4., 0., 9., 4., 1., 5., 7., 8., 1., 2., 1., 0., 6., 2., 0.,\n",
       "       4., 7., 2., 0., 7., 7., 6., 1., 3., 7., 4., 5., 0., 4., 4., 7., 7.,\n",
       "       9., 8., 1., 3., 7., 4., 2., 3., 2., 5., 6., 2., 8., 9., 3., 6., 4.,\n",
       "       1., 4., 4., 0., 2., 2., 4., 7., 8., 7., 3., 1., 3., 0., 7., 3., 6.,\n",
       "       3., 1., 5., 1., 4., 8., 2., 4., 8., 3., 9., 3., 2., 7., 3., 2., 3.,\n",
       "       9., 8., 7., 1., 1., 7., 8., 2., 0., 6., 5., 7., 8., 2., 9., 3., 7.,\n",
       "       8., 7., 2., 0., 8., 5., 1., 9., 1., 5., 2., 4., 1., 0., 4., 7., 4.,\n",
       "       9., 8., 4., 9., 8., 6., 0., 8., 8., 2., 2., 0., 2., 0., 4., 1., 4.,\n",
       "       2., 0., 6., 2., 5., 0., 8., 5., 0., 6., 4., 8., 9., 2., 1., 2., 3.,\n",
       "       3., 3., 9., 2., 9., 1., 2., 6., 5., 6., 2., 0., 7., 1., 7., 1., 0.,\n",
       "       0., 2., 4., 5., 9., 0., 0., 4., 8., 3., 7., 6., 0., 3., 5., 0., 5.,\n",
       "       9., 1., 5., 2., 1., 8., 9., 7., 3., 1., 4., 5., 4., 3., 6., 8., 7.,\n",
       "       1., 1., 6., 0., 1., 1., 3., 7., 1., 4., 0., 5., 8., 8., 0., 1., 2.,\n",
       "       7., 7., 6., 3., 8., 8., 1., 7., 1., 4., 8., 3., 1., 3., 0., 0., 4.,\n",
       "       3., 7., 3., 7., 2., 0., 9., 1., 8., 4., 3., 8., 7., 7., 5., 6., 7.,\n",
       "       0., 9., 8., 0., 6., 2., 9., 1., 3., 8., 6., 0., 3., 2., 8., 7., 8.,\n",
       "       7., 5., 9., 5., 9., 4., 1., 4., 9., 0., 4., 1., 5., 7., 8., 7., 9.,\n",
       "       9., 1., 8., 5., 0., 1., 3., 0., 1., 2., 4., 3., 3., 8., 6., 9., 1.,\n",
       "       4., 6., 5., 5., 9., 6., 6., 1., 0., 6., 4., 9., 9., 7., 0., 1., 6.,\n",
       "       8., 2., 1., 3., 9., 5., 9., 1., 0., 9., 1., 5., 0., 8., 0., 7., 4.,\n",
       "       9., 5., 2., 7., 4., 3., 7., 5., 2., 0., 8., 3., 7., 6., 9., 6., 1.,\n",
       "       9., 5., 0., 9., 0., 0., 1., 8., 3., 8., 8., 7., 6., 1., 3., 5., 8.,\n",
       "       5., 8., 7., 2., 1., 8., 7., 5., 4., 1., 1., 3., 7., 6., 1., 1., 7.,\n",
       "       6., 9., 1., 6., 4., 1., 9., 6., 8., 1., 7., 9., 4., 7., 4., 8., 4.,\n",
       "       2., 1., 3., 1., 0., 6., 0., 1., 0., 6., 6., 6., 9., 2., 2., 9., 8.,\n",
       "       2., 4., 3., 7., 6., 9., 8., 6., 0., 2., 2., 3., 1., 5., 5., 7., 6.,\n",
       "       7., 1., 6., 7., 8., 3., 1., 4., 8., 2., 2., 5., 9., 4., 9., 7., 3.,\n",
       "       6., 5., 2., 2., 0., 4., 4., 0., 6., 9., 0., 7., 6., 9., 2., 8., 2.,\n",
       "       4., 4., 7., 3., 3., 5., 8., 9., 0., 2., 2., 2., 2., 7., 3., 4., 1.,\n",
       "       4., 8., 0., 7., 8., 9., 5., 6., 5., 6., 5., 3., 5., 8., 2., 8., 0.,\n",
       "       0., 1., 1., 4., 1., 1., 9., 9., 3., 0., 6., 6., 9., 4., 3., 9., 7.,\n",
       "       3., 6., 0., 0., 2., 9., 8., 6., 0., 1., 2., 1., 5., 1., 5., 4., 1.,\n",
       "       0., 2., 8., 3., 7., 8., 5., 3., 1., 2., 3., 2., 0., 0., 6., 5., 5.,\n",
       "       8., 9., 6., 1., 1., 6., 0., 1., 8., 0., 7., 9., 6., 8., 2., 4., 9.,\n",
       "       1., 2., 8., 6., 9., 3., 7., 5., 2., 8., 5., 6., 2., 0., 1., 7., 6.,\n",
       "       1., 3., 7., 2., 4., 6., 7., 7., 8., 1., 7., 6., 6., 4., 4., 9., 3.,\n",
       "       9., 5., 3., 9., 3., 3., 6., 5., 8., 5., 5., 3., 6., 6., 4., 6., 3.,\n",
       "       3., 2., 7., 9., 6., 5., 5., 4., 5., 9., 4., 2., 0., 5., 0., 5., 9.,\n",
       "       2., 1., 9., 9., 7., 4., 7., 3., 2., 9., 6., 2., 5., 8., 6., 8., 5.,\n",
       "       1., 6., 9.])"
      ]
     },
     "execution_count": 84,
     "metadata": {},
     "output_type": "execute_result"
    }
   ],
   "source": [
    "%time my_clf.predict(X_test)"
   ]
  },
  {
   "cell_type": "code",
   "execution_count": 85,
   "metadata": {},
   "outputs": [
    {
     "name": "stdout",
     "output_type": "stream",
     "text": [
      "Wall time: 1min 10s\n"
     ]
    },
    {
     "data": {
      "text/plain": [
       "array([[0., 1., 0., ..., 0., 0., 0.],\n",
       "       [0., 0., 0., ..., 0., 0., 0.],\n",
       "       [0., 0., 0., ..., 0., 0., 0.],\n",
       "       ...,\n",
       "       [0., 1., 0., ..., 0., 0., 0.],\n",
       "       [0., 0., 0., ..., 0., 0., 0.],\n",
       "       [0., 0., 0., ..., 0., 0., 1.]])"
      ]
     },
     "execution_count": 85,
     "metadata": {},
     "output_type": "execute_result"
    }
   ],
   "source": [
    "%time clf.predict_proba(X_test)"
   ]
  },
  {
   "cell_type": "code",
   "execution_count": 86,
   "metadata": {},
   "outputs": [
    {
     "name": "stdout",
     "output_type": "stream",
     "text": [
      "Wall time: 1min 45s\n"
     ]
    },
    {
     "data": {
      "text/plain": [
       "array([[0., 1., 0., ..., 0., 0., 0.],\n",
       "       [0., 0., 0., ..., 0., 0., 0.],\n",
       "       [0., 0., 0., ..., 0., 0., 0.],\n",
       "       ...,\n",
       "       [0., 1., 0., ..., 0., 0., 0.],\n",
       "       [0., 0., 0., ..., 0., 0., 0.],\n",
       "       [0., 0., 0., ..., 0., 0., 1.]])"
      ]
     },
     "execution_count": 86,
     "metadata": {},
     "output_type": "execute_result"
    }
   ],
   "source": [
    "%time my_clf.predict_proba(X_test)"
   ]
  },
  {
   "cell_type": "code",
   "execution_count": 87,
   "metadata": {},
   "outputs": [
    {
     "data": {
      "text/plain": [
       "0.9714285714285714"
      ]
     },
     "execution_count": 87,
     "metadata": {},
     "output_type": "execute_result"
    }
   ],
   "source": [
    "clf.score(X_test, y_test)"
   ]
  },
  {
   "cell_type": "code",
   "execution_count": 88,
   "metadata": {},
   "outputs": [
    {
     "data": {
      "text/plain": [
       "0.9757142857142858"
      ]
     },
     "execution_count": 88,
     "metadata": {},
     "output_type": "execute_result"
    }
   ],
   "source": [
    "my_clf.score(X_test, y_test)"
   ]
  },
  {
   "cell_type": "markdown",
   "metadata": {},
   "source": [
    "Задание 5"
   ]
  },
  {
   "cell_type": "code",
   "execution_count": null,
   "metadata": {},
   "outputs": [],
   "source": [
    "# seaborn\n",
    "# это библиотека Python, основанная на Matplotlib, \n",
    "# созданная для визуализации данных.\n",
    "# Она обеспечивает интерфейс высокого уровня \n",
    "# для рисования привлекательной и информативной статистической графики.\n",
    "\n",
    "# matplotlib\n",
    "# библиотека на языке программирования Python \n",
    "# для визуализации данных двумерной графикой.\n",
    "# Библиотека Matplotlib построена на принципах ООП, \n",
    "# но имеет процедурный интерфейс pylab.\n",
    "\n",
    "# train_test_split\n",
    "# утилита из библиотеки sklearn, которая разбивает массивы\n",
    "# и матрицы на обучающие и тестовые выборки.\n",
    "\n",
    "# Pipelin%load_ext e (from sklearn.pipeline import Pipeline)\n",
    "# Загружает расширение IPython в notebook по имени e из предобработчика \n",
    "# данных Pipeline, который функционирует как составной классификатор\n",
    "\n",
    "# StandardScaler (from sklearn.preprocessing import StandardScaler)\n",
    "# Метод,осуществляющий стандартизацию объектов путем удаления среднего \n",
    "# и масштабирования до единичной дисперсии.\n",
    "\n",
    "# ClassifierMixin\n",
    "# Mixin класс для всех классификаторов в sklearn. \n",
    "# В частности, он используется для вычисления \n",
    "# среднего значения точности на данных и метках \n",
    "\n",
    "# NeighborsBase\n",
    "# Базовый класс Python, который используется для поиска \n",
    "# К ближайших соседей и посика соседей в заданном радиусе.\n",
    "# Параметры: (n_neighbors, radius, algorithm, leaf_size, \n",
    "# metric, p, metric_params, n_jobs )\n",
    "\n",
    "# KNeighborsMixin\n",
    "# класс python, используемый для поиска K ближайших соседей. \n",
    "# Основные методы: kneighbors, kneighbors_graph, _kneighbors_reduce_func.\n",
    "\n",
    "# SupervisedIntegerMixin\n",
    "# класс Python, который проверяет корректность параметров, \n",
    "# выполняет операцию проверки типа, \n",
    "# а затем вызывает _fit метода NeighborsBass\n"
   ]
  }
 ],
 "metadata": {
  "kernelspec": {
   "display_name": "Python 3",
   "language": "python",
   "name": "python3"
  },
  "language_info": {
   "codemirror_mode": {
    "name": "ipython",
    "version": 3
   },
   "file_extension": ".py",
   "mimetype": "text/x-python",
   "name": "python",
   "nbconvert_exporter": "python",
   "pygments_lexer": "ipython3",
   "version": "3.7.1"
  }
 },
 "nbformat": 4,
 "nbformat_minor": 2
}
